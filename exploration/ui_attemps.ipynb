{
 "cells": [
  {
   "cell_type": "code",
   "execution_count": 1,
   "metadata": {},
   "outputs": [],
   "source": [
    "%load_ext autoreload\n",
    "%autoreload 2"
   ]
  },
  {
   "cell_type": "code",
   "execution_count": 2,
   "metadata": {},
   "outputs": [],
   "source": [
    "import counterfactual_dataset_generator as cdg\n",
    "from counterfactual_dataset_generator import get_huggingface_gpt_model_evaluator, SimpleConverter, augment_dataset, evaluate"
   ]
  },
  {
   "cell_type": "code",
   "execution_count": 3,
   "metadata": {},
   "outputs": [],
   "source": [
    "import ui_helpers\n",
    "r = ui_helpers.gui_fname()"
   ]
  },
  {
   "cell_type": "code",
   "execution_count": 4,
   "metadata": {},
   "outputs": [
    {
     "data": {
      "application/javascript": [
       "window.executePython = function(python) {\n",
       "    return new Promise((resolve, reject) => {\n",
       "        var callbacks = {\n",
       "            iopub: {\n",
       "                output: (data) => resolve(data.content.text.trim())\n",
       "            }\n",
       "        };\n",
       "        Jupyter.notebook.kernel.execute(`print(${python})`, callbacks);    \n",
       "    });\n",
       "}\n"
      ],
      "text/plain": [
       "<IPython.core.display.Javascript object>"
      ]
     },
     "metadata": {},
     "output_type": "display_data"
    }
   ],
   "source": [
    "%%javascript\n",
    "window.executePython = function(python) {\n",
    "    return new Promise((resolve, reject) => {\n",
    "        var callbacks = {\n",
    "            iopub: {\n",
    "                output: (data) => resolve(data.content.text.trim())\n",
    "            }\n",
    "        };\n",
    "        Jupyter.notebook.kernel.execute(`print(${python})`, callbacks);    \n",
    "    });\n",
    "}"
   ]
  },
  {
   "cell_type": "code",
   "execution_count": 16,
   "metadata": {},
   "outputs": [
    {
     "data": {
      "text/html": [
       "\n",
       "<p id=\"p\">hey</p>\n",
       "<script>\n",
       "function executePython(code){\n",
       "    return new Promise((resolve,reject) => {\n",
       "        var callbacks = {\n",
       "            iopub: {\n",
       "                output: (data) => resolve(data.content.text.trim())\n",
       "            },\n",
       "            shell: {\n",
       "                reply: (data) => resolve(data.content.status)\n",
       "            }\n",
       "\n",
       "        };\n",
       "        Jupyter.notebook.kernel.execute(code, callbacks);\n",
       "    });\n",
       "}\n",
       "\n",
       "executePython('r = ui_helpers.gui_fname()').then(console.log(\"ok\"))\n",
       "</script>\n"
      ],
      "text/plain": [
       "<IPython.core.display.HTML object>"
      ]
     },
     "execution_count": 16,
     "metadata": {},
     "output_type": "execute_result"
    }
   ],
   "source": [
    "from IPython.display import HTML\n",
    "HTML(\"\"\"\n",
    "<p id=\"p\">hey</p>\n",
    "<script>\n",
    "function executePython(code){\n",
    "    return new Promise((resolve,reject) => {\n",
    "        var callbacks = {\n",
    "            iopub: {\n",
    "                output: (data) => resolve(data.content.text.trim())\n",
    "            },\n",
    "            shell: {\n",
    "                reply: (data) => resolve(data.content.status)\n",
    "            }\n",
    "\n",
    "        };\n",
    "        Jupyter.notebook.kernel.execute(code, callbacks);\n",
    "    });\n",
    "}\n",
    "\n",
    "executePython('r = ui_helpers.gui_fname()').then(console.log(\"ok\"))\n",
    "</script>\n",
    "\"\"\")"
   ]
  },
  {
   "cell_type": "code",
   "execution_count": 15,
   "metadata": {},
   "outputs": [
    {
     "data": {
      "text/plain": [
       "30"
      ]
     },
     "execution_count": 15,
     "metadata": {},
     "output_type": "execute_result"
    }
   ],
   "source": [
    "a"
   ]
  },
  {
   "cell_type": "code",
   "execution_count": 17,
   "metadata": {},
   "outputs": [
    {
     "data": {
      "text/plain": [
       "b'D:/_Docs/Programmation/Python/Counterfactual-Dataset-Generator/exploration/variations_attempts.py'"
      ]
     },
     "execution_count": 17,
     "metadata": {},
     "output_type": "execute_result"
    }
   ],
   "source": [
    "r"
   ]
  },
  {
   "cell_type": "code",
   "execution_count": null,
   "metadata": {},
   "outputs": [],
   "source": []
  }
 ],
 "metadata": {
  "kernelspec": {
   "display_name": "Python 3 (ipykernel)",
   "language": "python",
   "name": "python3"
  },
  "language_info": {
   "codemirror_mode": {
    "name": "ipython",
    "version": 3
   },
   "file_extension": ".py",
   "mimetype": "text/x-python",
   "name": "python",
   "nbconvert_exporter": "python",
   "pygments_lexer": "ipython3",
   "version": "3.9.12"
  },
  "vscode": {
   "interpreter": {
    "hash": "7e401bd2233303e7e5c8d55bc5d8195e517ad4c847c84c926c1bcd5146436f9a"
   }
  }
 },
 "nbformat": 4,
 "nbformat_minor": 2
}
